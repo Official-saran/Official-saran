{
  "nbformat": 4,
  "nbformat_minor": 0,
  "metadata": {
    "colab": {
      "provenance": [],
      "authorship_tag": "ABX9TyMQV7fZUlooD9YYY60RZOTb",
      "include_colab_link": true
    },
    "kernelspec": {
      "name": "python3",
      "display_name": "Python 3"
    },
    "language_info": {
      "name": "python"
    }
  },
  "cells": [
    {
      "cell_type": "markdown",
      "metadata": {
        "id": "view-in-github",
        "colab_type": "text"
      },
      "source": [
        "<a href=\"https://colab.research.google.com/github/Official-saran/Official-saran/blob/main/python_basics_dayOne.ipynb\" target=\"_parent\"><img src=\"https://colab.research.google.com/assets/colab-badge.svg\" alt=\"Open In Colab\"/></a>"
      ]
    },
    {
      "cell_type": "code",
      "execution_count": 1,
      "metadata": {
        "colab": {
          "base_uri": "https://localhost:8080/"
        },
        "id": "IlPgrgbnPGiy",
        "outputId": "39f9f67c-0e4d-4f90-89b2-9648aef96fa3"
      },
      "outputs": [
        {
          "output_type": "stream",
          "name": "stdout",
          "text": [
            "Enter a string: \n",
            "saran\n",
            "New string:\n",
            " ara\n"
          ]
        }
      ],
      "source": [
        "input_string=input(\"Enter a string: \\n\")\n",
        "length=len(input_string)\n",
        "if length < 3:\n",
        "    print(\"Input string is too short to extract the middle three characters.\\n\")\n",
        "else:\n",
        "    middle_index = length // 2\n",
        "    if length % 2 == 0:\n",
        "        middle_three = input_string[middle_index - 1: middle_index + 2]\n",
        "    else:\n",
        "        middle_three = input_string[middle_index - 1: middle_index + 2]\n",
        "    new_string = middle_three\n",
        "    print(\"New string:\\n\", new_string)"
      ]
    },
    {
      "cell_type": "code",
      "source": [
        "input_string=input(\"Enter a string: \\n\")\n",
        "length=len(input_string)\n",
        "if length % 2 == 0:\n",
        "    middle=input_string[length // 2 - 1: length // 2 + 1]\n",
        "else:\n",
        "    middle = input_string[length // 2]\n",
        "new_string = input_string[0] + middle + input_string[-1]\n",
        "print(\"New string:\\n\", new_string)"
      ],
      "metadata": {
        "colab": {
          "base_uri": "https://localhost:8080/"
        },
        "id": "RLEQrseuQkqP",
        "outputId": "689f287d-78e1-4439-8df0-6c61fbd29339"
      },
      "execution_count": 2,
      "outputs": [
        {
          "output_type": "stream",
          "name": "stdout",
          "text": [
            "Enter a string: \n",
            "saran\n",
            "New string:\n",
            " srn\n"
          ]
        }
      ]
    },
    {
      "cell_type": "code",
      "source": [
        "str1 = input(\"Enter a string :\")\n",
        "\n",
        "chars_count = 0\n",
        "digits_count = 0\n",
        "symbols_count = 0\n",
        "\n",
        "for char in str1:\n",
        "    if char.isalpha():\n",
        "        chars_count += 1\n",
        "    elif char.isdigit():\n",
        "        digits_count += 1\n",
        "    else:\n",
        "        symbols_count += 1\n",
        "\n",
        "print(\"Total counts of chars, digits, and symbols\")\n",
        "print(\"Chars =\", chars_count)\n",
        "print(\"Digits =\", digits_count)\n",
        "print(\"Symbols =\", symbols_count)"
      ],
      "metadata": {
        "colab": {
          "base_uri": "https://localhost:8080/"
        },
        "id": "2gkIQUjLQvtg",
        "outputId": "168cd076-4d12-4334-b725-c8e5e1d7d996"
      },
      "execution_count": 3,
      "outputs": [
        {
          "output_type": "stream",
          "name": "stdout",
          "text": [
            "Enter a string :saran@251@life\n",
            "Total counts of chars, digits, and symbols\n",
            "Chars = 9\n",
            "Digits = 3\n",
            "Symbols = 2\n"
          ]
        }
      ]
    },
    {
      "cell_type": "code",
      "source": [
        "s1 = input(\"Enter string_1: \\n\")\n",
        "s2 = input(\"Enter string_2: \\n\")\n",
        "s3 = \"\"\n",
        "len_s1 = len(s1)\n",
        "len_s2 = len(s2)\n",
        "min_length = min(len_s1, len_s2)\n",
        "\n",
        "for i in range(min_length):\n",
        "    s3 += s1[i] + s2[-(i+1)]\n",
        "\n",
        "if len_s1 > min_length:\n",
        "    s3 += s1[min_length:]\n",
        "\n",
        "if len_s2 > min_length:\n",
        "    s3 += s2[:-(min_length+1):-1]\n",
        "\n",
        "print(\"New string:\", s3)"
      ],
      "metadata": {
        "colab": {
          "base_uri": "https://localhost:8080/"
        },
        "id": "QL_A6G0pRDK6",
        "outputId": "52ccc32a-efb9-41b7-d306-976a10458eba"
      },
      "execution_count": 4,
      "outputs": [
        {
          "output_type": "stream",
          "name": "stdout",
          "text": [
            "Enter string_1: \n",
            "ABC\n",
            "Enter string_2: \n",
            "abc\n",
            "New string: AcBbCa\n"
          ]
        }
      ]
    },
    {
      "cell_type": "code",
      "source": [
        "str1 = input(\"Enter the first string (str1): \")\n",
        "str2 = input(\"Enter the second string (str2): \")\n",
        "middle_index = len(str1) // 2\n",
        "str3 = str1[:middle_index] + str2 + str1[middle_index:]\n",
        "print(\"New string:\", str3)"
      ],
      "metadata": {
        "colab": {
          "base_uri": "https://localhost:8080/"
        },
        "id": "RP7JgW9qRpy8",
        "outputId": "ffe742b6-6f29-4600-b052-6bfb51d6a2f4"
      },
      "execution_count": 5,
      "outputs": [
        {
          "output_type": "stream",
          "name": "stdout",
          "text": [
            "Enter the first string (str1): saran\n",
            "Enter the second string (str2): ya\n",
            "New string: sayaran\n"
          ]
        }
      ]
    },
    {
      "cell_type": "code",
      "source": [
        "marked_price = float(input(\"Enter the marked price: \\n\"))\n",
        "if marked_price > 10000:\n",
        "    discount = 0.20\n",
        "elif marked_price > 7000:\n",
        "    discount = 0.15\n",
        "else:\n",
        "    discount = 0.10\n",
        "net_amount = marked_price - (discount * marked_price)\n",
        "print(f\"The net amount to pay after discount is: {net_amount:.2f}\")"
      ],
      "metadata": {
        "colab": {
          "base_uri": "https://localhost:8080/"
        },
        "id": "TUW_vCv0SGjt",
        "outputId": "16821f7b-e828-4d2b-af16-69f659d4fb9f"
      },
      "execution_count": 6,
      "outputs": [
        {
          "output_type": "stream",
          "name": "stdout",
          "text": [
            "Enter the marked price: \n",
            "5000.00\n",
            "The net amount to pay after discount is: 4500.00\n"
          ]
        }
      ]
    },
    {
      "cell_type": "code",
      "source": [
        "units = int(input(\"Enter the number of units: \"))\n",
        "if units <= 100:\n",
        "    bill = 0\n",
        "elif units <= 200:\n",
        "    bill = (units - 100) * 5\n",
        "else:\n",
        "    bill = (100 * 5) + (units - 200) * 10\n",
        "\n",
        "print(f\"The total electricity bill is: Rs.{bill}\")"
      ],
      "metadata": {
        "colab": {
          "base_uri": "https://localhost:8080/"
        },
        "id": "jG0i3yKhSOCw",
        "outputId": "c1c7997b-b9b0-4306-d9d2-c94fb55d249a"
      },
      "execution_count": 7,
      "outputs": [
        {
          "output_type": "stream",
          "name": "stdout",
          "text": [
            "Enter the number of units: 150\n",
            "The total electricity bill is: Rs.250\n"
          ]
        }
      ]
    },
    {
      "cell_type": "code",
      "source": [
        "years_of_experience = float(input(\"Enter the employee's years of experience: \\n\"))\n",
        "salary = float(input(\"Enter the employee's salary: \\n\"))\n",
        "\n",
        "if years_of_experience > 8:\n",
        "    bonus_percentage = 10\n",
        "elif years_of_experience > 4:\n",
        "    bonus_percentage = 7\n",
        "elif years_of_experience > 2:\n",
        "    bonus_percentage = 4\n",
        "else:\n",
        "    bonus_percentage = 0\n",
        "\n",
        "bonus_amount = (bonus_percentage / 100) * salary\n",
        "print(f\"The employee's bonus is: {bonus_amount:.2f}\")"
      ],
      "metadata": {
        "colab": {
          "base_uri": "https://localhost:8080/"
        },
        "id": "T7dYQxMOSdHC",
        "outputId": "7e2e6e9e-8473-44a4-9223-73acb7c4f266"
      },
      "execution_count": 8,
      "outputs": [
        {
          "output_type": "stream",
          "name": "stdout",
          "text": [
            "Enter the employee's years of experience: \n",
            "10\n",
            "Enter the employee's salary: \n",
            "20000\n",
            "The employee's bonus is: 2000.00\n"
          ]
        }
      ]
    }
  ]
}